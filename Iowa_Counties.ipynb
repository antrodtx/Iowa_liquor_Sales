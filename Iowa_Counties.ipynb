{
 "cells": [
  {
   "cell_type": "code",
   "execution_count": 2,
   "id": "cd4a4a42",
   "metadata": {},
   "outputs": [],
   "source": [
    "import pandas as pd\n",
    "import numpy as np\n",
    "import seaborn as sns"
   ]
  },
  {
   "cell_type": "code",
   "execution_count": 3,
   "id": "4ba4be22",
   "metadata": {},
   "outputs": [],
   "source": [
    "counties = pd.read_excel(\"IowaCity_County.xlsx\")"
   ]
  },
  {
   "cell_type": "code",
   "execution_count": 4,
   "id": "9a653f1e",
   "metadata": {},
   "outputs": [
    {
     "data": {
      "text/html": [
       "<div>\n",
       "<style scoped>\n",
       "    .dataframe tbody tr th:only-of-type {\n",
       "        vertical-align: middle;\n",
       "    }\n",
       "\n",
       "    .dataframe tbody tr th {\n",
       "        vertical-align: top;\n",
       "    }\n",
       "\n",
       "    .dataframe thead th {\n",
       "        text-align: right;\n",
       "    }\n",
       "</style>\n",
       "<table border=\"1\" class=\"dataframe\">\n",
       "  <thead>\n",
       "    <tr style=\"text-align: right;\">\n",
       "      <th></th>\n",
       "      <th>City</th>\n",
       "    </tr>\n",
       "  </thead>\n",
       "  <tbody>\n",
       "    <tr>\n",
       "      <th>0</th>\n",
       "      <td>Ackley city ( Hardin County )</td>\n",
       "    </tr>\n",
       "    <tr>\n",
       "      <th>1</th>\n",
       "      <td>Ackley city ( Franklin County )</td>\n",
       "    </tr>\n",
       "    <tr>\n",
       "      <th>2</th>\n",
       "      <td>Ackworth city ( Warren County )</td>\n",
       "    </tr>\n",
       "    <tr>\n",
       "      <th>3</th>\n",
       "      <td>Adair city ( Adair County )</td>\n",
       "    </tr>\n",
       "    <tr>\n",
       "      <th>4</th>\n",
       "      <td>Adair city ( Guthrie County )</td>\n",
       "    </tr>\n",
       "  </tbody>\n",
       "</table>\n",
       "</div>"
      ],
      "text/plain": [
       "                              City\n",
       "0    Ackley city ( Hardin County )\n",
       "1  Ackley city ( Franklin County )\n",
       "2  Ackworth city ( Warren County )\n",
       "3      Adair city ( Adair County )\n",
       "4    Adair city ( Guthrie County )"
      ]
     },
     "execution_count": 4,
     "metadata": {},
     "output_type": "execute_result"
    }
   ],
   "source": [
    "counties.head()"
   ]
  },
  {
   "cell_type": "code",
   "execution_count": 11,
   "id": "f167f588",
   "metadata": {},
   "outputs": [
    {
     "name": "stdout",
     "output_type": "stream",
     "text": [
      "            0     1  2         3       4  5     6     7     8\n",
      "0      Ackley  city  (    Hardin  County  )  None  None  None\n",
      "1      Ackley  city  (  Franklin  County  )  None  None  None\n",
      "2    Ackworth  city  (    Warren  County  )  None  None  None\n",
      "3       Adair  city  (     Adair  County  )  None  None  None\n",
      "4       Adair  city  (   Guthrie  County  )  None  None  None\n",
      "..        ...   ... ..       ...     ... ..   ...   ...   ...\n",
      "994   Wyoming  city  (     Jones  County  )  None  None  None\n",
      "995      Yale  city  (   Guthrie  County  )  None  None  None\n",
      "996    Yetter  city  (   Calhoun  County  )  None  None  None\n",
      "997  Yorktown  city  (      Page  County  )  None  None  None\n",
      "998   Zearing  city  (     Story  County  )  None  None  None\n",
      "\n",
      "[999 rows x 9 columns]\n"
     ]
    }
   ],
   "source": [
    "cty = counties['City'].str.split(expand = True)\n",
    "print(cty)"
   ]
  },
  {
   "cell_type": "code",
   "execution_count": 9,
   "id": "b4163345",
   "metadata": {},
   "outputs": [
    {
     "name": "stdout",
     "output_type": "stream",
     "text": [
      "                0   1\n",
      "0       ( Hardin    )\n",
      "1     ( Franklin    )\n",
      "2       ( Warren    )\n",
      "3        ( Adair    )\n",
      "4      ( Guthrie    )\n",
      "..            ...  ..\n",
      "994      ( Jones    )\n",
      "995    ( Guthrie    )\n",
      "996    ( Calhoun    )\n",
      "997       ( Page    )\n",
      "998      ( Story    )\n",
      "\n",
      "[999 rows x 2 columns]\n"
     ]
    }
   ],
   "source": [
    "cty2 = cty[1].str.split(\"County\" , expand = True)\n",
    "print(cty2)"
   ]
  },
  {
   "cell_type": "code",
   "execution_count": null,
   "id": "473a0982",
   "metadata": {},
   "outputs": [],
   "source": [
    "#Split the city column and create a new column with the county name\n"
   ]
  }
 ],
 "metadata": {
  "kernelspec": {
   "display_name": "Python 3 (ipykernel)",
   "language": "python",
   "name": "python3"
  },
  "language_info": {
   "codemirror_mode": {
    "name": "ipython",
    "version": 3
   },
   "file_extension": ".py",
   "mimetype": "text/x-python",
   "name": "python",
   "nbconvert_exporter": "python",
   "pygments_lexer": "ipython3",
   "version": "3.10.9"
  }
 },
 "nbformat": 4,
 "nbformat_minor": 5
}
